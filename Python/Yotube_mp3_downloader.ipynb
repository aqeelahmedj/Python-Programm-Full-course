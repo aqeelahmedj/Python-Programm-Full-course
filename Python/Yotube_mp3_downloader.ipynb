{
 "cells": [
  {
   "cell_type": "markdown",
   "metadata": {},
   "source": [
    "Download YouTube Videos converted into MP3 using Python"
   ]
  },
  {
   "cell_type": "code",
   "execution_count": 1,
   "metadata": {},
   "outputs": [
    {
     "name": "stdout",
     "output_type": "stream",
     "text": [
      "Collecting pytube\n",
      "  Downloading pytube-12.1.0-py3-none-any.whl (56 kB)\n",
      "     ---------------------------------------- 56.5/56.5 KB 3.1 MB/s eta 0:00:00\n",
      "Installing collected packages: pytube\n",
      "Successfully installed pytube-12.1.0\n",
      "Note: you may need to restart the kernel to use updated packages.\n"
     ]
    },
    {
     "name": "stderr",
     "output_type": "stream",
     "text": [
      "WARNING: You are using pip version 22.0.4; however, version 22.2.2 is available.\n",
      "You should consider upgrading via the 'C:\\Users\\DELL\\anaconda3\\python.exe -m pip install --upgrade pip' command.\n"
     ]
    }
   ],
   "source": [
    "#install this library\n",
    "pip install pytube"
   ]
  },
  {
   "cell_type": "code",
   "execution_count": 3,
   "metadata": {},
   "outputs": [],
   "source": [
    "from pytube import YouTube\n",
    "import os"
   ]
  },
  {
   "cell_type": "code",
   "execution_count": 13,
   "metadata": {},
   "outputs": [
    {
     "name": "stdout",
     "output_type": "stream",
     "text": [
      "Please Enter the URL of the Youtube vidoe: \n",
      "https://www.youtube.com/watch?v=kJQP7kiw5Fk\n",
      "Enter the destination or leave it empty for deafult directory\n",
      ">> C:\\Users\\DELL\\Pictures\\Youtube MP3\n",
      "Luis Fonsi - Despacito ft. Daddy Yankee has been succsefully downloaded in .mp3 format! \n"
     ]
    }
   ],
   "source": [
    "#take url input from the user\n",
    "url=YouTube(str(input(\"Please Enter the URL of the Youtube vidoe: \\n\")))\n",
    "\n",
    "#extract the audio \n",
    "video= url.streams.filter(only_audio=True).first()\n",
    "\n",
    "#destination directory to save file\n",
    "print(\"Enter the destination or leave it empty for deafult directory\")\n",
    "destination=str(input(\">> \")) or'.'\n",
    "#download the file\n",
    "out_file = video.download(output_path=destination)\n",
    "#save the file \n",
    "base, ext = os.path.splitext(out_file)\n",
    "new_file = base+ '.mp3'\n",
    "os.rename(out_file, new_file)\n",
    "print(url.title + \" has been succsefully downloaded in .mp3 format! \")"
   ]
  },
  {
   "cell_type": "code",
   "execution_count": null,
   "metadata": {},
   "outputs": [],
   "source": []
  },
  {
   "cell_type": "code",
   "execution_count": null,
   "metadata": {},
   "outputs": [],
   "source": []
  }
 ],
 "metadata": {
  "kernelspec": {
   "display_name": "Python 3",
   "language": "python",
   "name": "python3"
  },
  "language_info": {
   "codemirror_mode": {
    "name": "ipython",
    "version": 3
   },
   "file_extension": ".py",
   "mimetype": "text/x-python",
   "name": "python",
   "nbconvert_exporter": "python",
   "pygments_lexer": "ipython3",
   "version": "3.8.5"
  }
 },
 "nbformat": 4,
 "nbformat_minor": 4
}
